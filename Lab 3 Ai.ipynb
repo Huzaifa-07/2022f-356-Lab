{
 "cells": [
  {
   "cell_type": "code",
   "execution_count": 21,
   "id": "650e7d99-45ed-4297-95c2-8d9421fade92",
   "metadata": {},
   "outputs": [
    {
     "name": "stdout",
     "output_type": "stream",
     "text": [
      "Prediction for Overcast and Mild: No\n",
      "Confusion Matrix:\n",
      "[[3 1]\n",
      " [1 5]]\n",
      "Classification Report:\n",
      "              precision    recall  f1-score   support\n",
      "\n",
      "          No       0.75      0.75      0.75         4\n",
      "         Yes       0.83      0.83      0.83         6\n",
      "\n",
      "    accuracy                           0.80        10\n",
      "   macro avg       0.79      0.79      0.79        10\n",
      "weighted avg       0.80      0.80      0.80        10\n",
      "\n"
     ]
    },
    {
     "name": "stderr",
     "output_type": "stream",
     "text": [
      "C:\\Users\\hp\\anaconda3\\Lib\\site-packages\\sklearn\\base.py:486: UserWarning: X has feature names, but KNeighborsClassifier was fitted without feature names\n",
      "  warnings.warn(\n"
     ]
    }
   ],
   "source": [
    "import pandas as pd\n",
    "from sklearn.model_selection import train_test_split\n",
    "from sklearn.preprocessing import OneHotEncoder\n",
    "from sklearn.neighbors import KNeighborsClassifier\n",
    "from sklearn.metrics import confusion_matrix, classification_report\n",
    "\n",
    "# Step 1: Create the dataset\n",
    "data = {\n",
    "    'Weather': ['Sunny', 'Sunny', 'Overcast', 'Rainy', 'Rainy', 'Rainy', 'Overcast', 'Sunny', 'Sunny', 'Rainy'],\n",
    "    'Temperature': ['Hot', 'Hot', 'Mild', 'Mild', 'Cool', 'Cool', 'Cool', 'Mild', 'Cool', 'Mild'],\n",
    "    'Play': ['No', 'No', 'Yes', 'Yes', 'Yes', 'No', 'Yes', 'No', 'Yes', 'Yes']\n",
    "}\n",
    "\n",
    "df = pd.DataFrame(data)\n",
    "\n",
    "# Step 2: One-hot encode categorical features\n",
    "X = df[['Weather', 'Temperature']]\n",
    "y = df['Play']\n",
    "\n",
    "# Updated OneHotEncoder usage\n",
    "encoder = OneHotEncoder(sparse_output=False)  # Use sparse_output instead of sparse\n",
    "X_encoded = encoder.fit_transform(X)\n",
    "\n",
    "# Step 3: Train the KNN model\n",
    "knn = KNeighborsClassifier(n_neighbors=3)\n",
    "knn.fit(X_encoded, y)\n",
    "\n",
    "# Step 4: Predict for new instance (Weather = Overcast, Temperature = Mild)\n",
    "new_instance = pd.DataFrame({\n",
    "    'Weather_Rainy': [0],\n",
    "    'Weather_Sunny': [0],\n",
    "    'Weather_Overcast': [1],\n",
    "    'Temperature_Hot': [0],\n",
    "    'Temperature_Mild': [1],\n",
    "    'Temperature_Cool': [0]\n",
    "})\n",
    "\n",
    "# Step 5: Make prediction\n",
    "prediction = knn.predict(new_instance)\n",
    "print(f\"Prediction for Overcast and Mild: {prediction[0]}\")\n",
    "\n",
    "# Step 6: Evaluate the model\n",
    "y_pred = knn.predict(X_encoded)\n",
    "cm = confusion_matrix(y, y_pred)\n",
    "print(\"Confusion Matrix:\")\n",
    "print(cm)\n",
    "\n",
    "print(\"Classification Report:\")\n",
    "print(classification_report(y, y_pred))\n"
   ]
  },
  {
   "cell_type": "code",
   "execution_count": 5,
   "id": "b66ce1c6-7b77-4c6a-8f74-976916ea85f1",
   "metadata": {},
   "outputs": [
    {
     "name": "stdout",
     "output_type": "stream",
     "text": [
      "Distances: [(2.23606797749979, 'A'), (2.23606797749979, 'A'), (4.123105625617661, 'B'), (5.0, 'B')]\n",
      "Nearest Neighbors: [(2.23606797749979, 'A'), (2.23606797749979, 'A'), (4.123105625617661, 'B')]\n",
      "Predicted Classification: A\n"
     ]
    }
   ],
   "source": [
    "import numpy as np\n",
    "import pandas as pd\n",
    "\n",
    "# Training data\n",
    "training_data = {\n",
    "    'X1': [4, 5, 7, 8],\n",
    "    'X2': [5, 6, 8, 7],\n",
    "    'Y': ['A', 'A', 'B', 'B']\n",
    "}\n",
    "\n",
    "df_train = pd.DataFrame(training_data)\n",
    "query_instance = np.array([3, 7])\n",
    "\n",
    "# Calculate distances\n",
    "distances = []\n",
    "for index, row in df_train.iterrows():\n",
    "    distance = np.sqrt((row['X1'] - query_instance[0])**2 + (row['X2'] - query_instance[1])**2)\n",
    "    distances.append((distance, row['Y']))\n",
    "\n",
    "# Sort by distance and take the nearest 3\n",
    "distances.sort(key=lambda x: x[0])\n",
    "nearest_neighbors = distances[:3]\n",
    "\n",
    "# Gather classes of the nearest neighbors\n",
    "classes = [neighbor[1] for neighbor in nearest_neighbors]\n",
    "prediction = max(set(classes), key=classes.count)\n",
    "\n",
    "print(f\"Distances: {distances}\")\n",
    "print(f\"Nearest Neighbors: {nearest_neighbors}\")\n",
    "print(f\"Predicted Classification: {prediction}\")\n"
   ]
  },
  {
   "cell_type": "code",
   "execution_count": null,
   "id": "a62a1885-7d07-446f-9d22-2a0fbd403538",
   "metadata": {},
   "outputs": [],
   "source": []
  }
 ],
 "metadata": {
  "kernelspec": {
   "display_name": "Python 3 (ipykernel)",
   "language": "python",
   "name": "python3"
  },
  "language_info": {
   "codemirror_mode": {
    "name": "ipython",
    "version": 3
   },
   "file_extension": ".py",
   "mimetype": "text/x-python",
   "name": "python",
   "nbconvert_exporter": "python",
   "pygments_lexer": "ipython3",
   "version": "3.12.7"
  }
 },
 "nbformat": 4,
 "nbformat_minor": 5
}
